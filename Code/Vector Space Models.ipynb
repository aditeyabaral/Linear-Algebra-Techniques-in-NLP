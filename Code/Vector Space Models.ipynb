{
 "cells": [
  {
   "cell_type": "code",
   "execution_count": 1,
   "metadata": {},
   "outputs": [],
   "source": [
    "from TextPreprocessing import clean\n",
    "from sklearn.feature_extraction.text import CountVectorizer, TfidfVectorizer\n",
    "import numpy as np\n",
    "\n",
    "def TF(word, document):\n",
    "    return document.count(word)\n",
    "\n",
    "def TF_scaled(word, document, documents):\n",
    "    return document.count(word)/len(documents)\n",
    "\n",
    "def df(documents,term):\n",
    "    ctr = 0\n",
    "    for doc in documents:\n",
    "        if term in doc:\n",
    "            ctr+=1\n",
    "    return ctr\n",
    "\n",
    "def idf(documents,term):\n",
    "    n = len(documents)\n",
    "    return 1+np.log((1+n)/(1+df(documents,term)))\n",
    "\n",
    "def TFIDF(documents):\n",
    "    preprocessed = list(map(clean, documents))\n",
    "    vocabulary = list(set(\" \".join(preprocessed).split()))\n",
    "    vocabulary.sort()\n",
    "    X = np.zeros([len(vocabulary), len(documents)],dtype = 'float')\n",
    "    for i in range(X.shape[0]):\n",
    "        for j in range(X.shape[1]):\n",
    "            X[i,j]+= TF_scaled(vocabulary[i], preprocessed[j], preprocessed)*idf(preprocessed,vocabulary[i])\n",
    "    return X\n",
    "    \n",
    "    \n",
    "def BagOfWords(documents):\n",
    "    preprocessed = list(map(clean, documents))\n",
    "    vocabulary = list(set(\" \".join(preprocessed).split()))\n",
    "    vocabulary.sort()\n",
    "    X = np.zeros([len(vocabulary), len(documents)],dtype = 'float')\n",
    "    for i in range(X.shape[0]):\n",
    "        for j in range(X.shape[1]):\n",
    "            X[i,j]+= TF(vocabulary[i], preprocessed[j])\n",
    "    return X\n",
    "\n",
    "\n",
    "documents = [\"First came the Golden Age and the Silver Age\",\n",
    "                \"Then came the Bronze Age.\",\n",
    "                \"Then was the age of Revolution with the Iron Age.\",\n",
    "                \"Now we are in the Digital Age.\"\n",
    "        ]"
   ]
  },
  {
   "cell_type": "code",
   "execution_count": 2,
   "metadata": {},
   "outputs": [],
   "source": [
    "BoW1 = BagOfWords(documents)\n",
    "vectorizer1 = CountVectorizer()\n",
    "BoW2 = vectorizer1.fit_transform(list(map(clean,documents))).toarray().T"
   ]
  },
  {
   "cell_type": "code",
   "execution_count": 3,
   "metadata": {},
   "outputs": [],
   "source": [
    "tfidf1 = TFIDF(documents)\n",
    "vectorizer2 = TfidfVectorizer(smooth_idf=True)\n",
    "tfidf2 = vectorizer2.fit_transform(list(map(clean,documents))).toarray().T"
   ]
  },
  {
   "cell_type": "code",
   "execution_count": 7,
   "metadata": {},
   "outputs": [
    {
     "data": {
      "text/plain": [
       "array([[2, 1, 2, 1],\n",
       "       [0, 1, 0, 0],\n",
       "       [1, 1, 0, 0],\n",
       "       [0, 0, 0, 1],\n",
       "       [1, 0, 0, 0],\n",
       "       [1, 0, 0, 0],\n",
       "       [0, 0, 1, 0],\n",
       "       [0, 0, 1, 0],\n",
       "       [1, 0, 0, 0]], dtype=int64)"
      ]
     },
     "execution_count": 7,
     "metadata": {},
     "output_type": "execute_result"
    }
   ],
   "source": [
    "BoW2"
   ]
  },
  {
   "cell_type": "code",
   "execution_count": 5,
   "metadata": {},
   "outputs": [
    {
     "data": {
      "text/plain": [
       "array([[0.48085948, 0.37919167, 0.59380024, 0.46263733],\n",
       "       [0.        , 0.72664149, 0.        , 0.        ],\n",
       "       [0.36324741, 0.5728925 , 0.        , 0.        ],\n",
       "       [0.        , 0.        , 0.        , 0.88654763],\n",
       "       [0.46073328, 0.        , 0.        , 0.        ],\n",
       "       [0.46073328, 0.        , 0.        , 0.        ],\n",
       "       [0.        , 0.        , 0.56894695, 0.        ],\n",
       "       [0.        , 0.        , 0.56894695, 0.        ],\n",
       "       [0.46073328, 0.        , 0.        , 0.        ]])"
      ]
     },
     "execution_count": 5,
     "metadata": {},
     "output_type": "execute_result"
    }
   ],
   "source": [
    "tfidf2"
   ]
  },
  {
   "cell_type": "code",
   "execution_count": null,
   "metadata": {},
   "outputs": [],
   "source": []
  }
 ],
 "metadata": {
  "kernelspec": {
   "display_name": "Python 3",
   "language": "python",
   "name": "python3"
  },
  "language_info": {
   "codemirror_mode": {
    "name": "ipython",
    "version": 3
   },
   "file_extension": ".py",
   "mimetype": "text/x-python",
   "name": "python",
   "nbconvert_exporter": "python",
   "pygments_lexer": "ipython3",
   "version": "3.7.4"
  }
 },
 "nbformat": 4,
 "nbformat_minor": 2
}
